{
 "cells": [
  {
   "cell_type": "code",
   "execution_count": 164,
   "id": "cf34c37b",
   "metadata": {},
   "outputs": [],
   "source": [
    "import pandas as pd\n",
    "import os\n",
    "import matplotlib.pyplot as plt"
   ]
  },
  {
   "attachments": {},
   "cell_type": "markdown",
   "id": "8388b039",
   "metadata": {},
   "source": [
    "#### We will first merge the files in a single csv file"
   ]
  },
  {
   "cell_type": "code",
   "execution_count": 133,
   "id": "3d1919bb",
   "metadata": {},
   "outputs": [],
   "source": [
    "all_months = pd.DataFrame()\n",
    "\n",
    "files = [file for file in os.listdir() if file.endswith('.csv')]\n",
    "dfs = []\n",
    "for file in files:\n",
    "    df = pd.read_csv(file)\n",
    "    dfs.append(df)\n",
    "all_months = pd.concat(dfs, ignore_index=True)\n",
    "all_months.to_csv('all_months.csv')"
   ]
  },
  {
   "attachments": {},
   "cell_type": "markdown",
   "id": "c1fcb69c",
   "metadata": {},
   "source": [
    "#### Data Cleaning"
   ]
  },
  {
   "cell_type": "code",
   "execution_count": 134,
   "id": "371e2a1d",
   "metadata": {},
   "outputs": [],
   "source": [
    "all_months.columns = all_months.columns.str.replace(' ', '')"
   ]
  },
  {
   "cell_type": "code",
   "execution_count": 221,
   "id": "b38d6bdf",
   "metadata": {},
   "outputs": [],
   "source": [
    "all_months = all_months.dropna(how='any')"
   ]
  },
  {
   "cell_type": "code",
   "execution_count": 222,
   "id": "faaed980",
   "metadata": {},
   "outputs": [],
   "source": [
    "all_months['OrderDate'] = pd.to_datetime(all_months['OrderDate'], format='%m/%d/%y %H:%M', errors='coerce')"
   ]
  },
  {
   "cell_type": "code",
   "execution_count": 223,
   "id": "72e040b1",
   "metadata": {},
   "outputs": [],
   "source": [
    "all_months['QuantityOrdered'] = pd.to_numeric(all_months['QuantityOrdered'], errors='coerce')"
   ]
  },
  {
   "cell_type": "code",
   "execution_count": 224,
   "id": "e728a17e",
   "metadata": {},
   "outputs": [],
   "source": [
    "all_months['PriceEach'] = pd.to_numeric(all_months['PriceEach'], errors='coerce')"
   ]
  },
  {
   "attachments": {},
   "cell_type": "markdown",
   "id": "2e113b79",
   "metadata": {},
   "source": [
    "### Question 1: What was the best month for sales? How much was earned in that month?"
   ]
  },
  {
   "cell_type": "code",
   "execution_count": 225,
   "id": "79acb1fa",
   "metadata": {},
   "outputs": [],
   "source": [
    "all_months['Sales'] = all_months['QuantityOrdered'] * all_months['PriceEach']"
   ]
  },
  {
   "cell_type": "code",
   "execution_count": 226,
   "id": "a5ceb528",
   "metadata": {},
   "outputs": [],
   "source": [
    "all_months['Month'] = all_months['OrderDate'].dt.month_name()"
   ]
  },
  {
   "cell_type": "code",
   "execution_count": 227,
   "id": "5c807871",
   "metadata": {},
   "outputs": [],
   "source": [
    "results = all_months.groupby('Month').agg({'Sales': 'sum'})"
   ]
  },
  {
   "cell_type": "code",
   "execution_count": 228,
   "id": "7e7ec8e2",
   "metadata": {},
   "outputs": [
    {
     "data": {
      "text/html": [
       "<div>\n",
       "<style scoped>\n",
       "    .dataframe tbody tr th:only-of-type {\n",
       "        vertical-align: middle;\n",
       "    }\n",
       "\n",
       "    .dataframe tbody tr th {\n",
       "        vertical-align: top;\n",
       "    }\n",
       "\n",
       "    .dataframe thead th {\n",
       "        text-align: right;\n",
       "    }\n",
       "</style>\n",
       "<table border=\"1\" class=\"dataframe\">\n",
       "  <thead>\n",
       "    <tr style=\"text-align: right;\">\n",
       "      <th></th>\n",
       "      <th>Sales</th>\n",
       "    </tr>\n",
       "    <tr>\n",
       "      <th>Month</th>\n",
       "      <th></th>\n",
       "    </tr>\n",
       "  </thead>\n",
       "  <tbody>\n",
       "    <tr>\n",
       "      <th>April</th>\n",
       "      <td>3390670.24</td>\n",
       "    </tr>\n",
       "    <tr>\n",
       "      <th>August</th>\n",
       "      <td>2244467.88</td>\n",
       "    </tr>\n",
       "    <tr>\n",
       "      <th>December</th>\n",
       "      <td>4613443.34</td>\n",
       "    </tr>\n",
       "    <tr>\n",
       "      <th>February</th>\n",
       "      <td>2202022.42</td>\n",
       "    </tr>\n",
       "    <tr>\n",
       "      <th>January</th>\n",
       "      <td>1822256.73</td>\n",
       "    </tr>\n",
       "    <tr>\n",
       "      <th>July</th>\n",
       "      <td>2647775.76</td>\n",
       "    </tr>\n",
       "    <tr>\n",
       "      <th>June</th>\n",
       "      <td>2577802.26</td>\n",
       "    </tr>\n",
       "    <tr>\n",
       "      <th>March</th>\n",
       "      <td>2807100.38</td>\n",
       "    </tr>\n",
       "    <tr>\n",
       "      <th>May</th>\n",
       "      <td>3152606.75</td>\n",
       "    </tr>\n",
       "    <tr>\n",
       "      <th>November</th>\n",
       "      <td>3199603.20</td>\n",
       "    </tr>\n",
       "    <tr>\n",
       "      <th>October</th>\n",
       "      <td>3736726.88</td>\n",
       "    </tr>\n",
       "    <tr>\n",
       "      <th>September</th>\n",
       "      <td>2097560.13</td>\n",
       "    </tr>\n",
       "  </tbody>\n",
       "</table>\n",
       "</div>"
      ],
      "text/plain": [
       "                Sales\n",
       "Month                \n",
       "April      3390670.24\n",
       "August     2244467.88\n",
       "December   4613443.34\n",
       "February   2202022.42\n",
       "January    1822256.73\n",
       "July       2647775.76\n",
       "June       2577802.26\n",
       "March      2807100.38\n",
       "May        3152606.75\n",
       "November   3199603.20\n",
       "October    3736726.88\n",
       "September  2097560.13"
      ]
     },
     "execution_count": 228,
     "metadata": {},
     "output_type": "execute_result"
    }
   ],
   "source": [
    "results"
   ]
  },
  {
   "cell_type": "code",
   "execution_count": 229,
   "id": "c07f1054",
   "metadata": {},
   "outputs": [],
   "source": [
    "# ANS: \n",
    "# The best month for sales was December (which is expected since it is a national holiday) with earnings = 4613443.34"
   ]
  },
  {
   "attachments": {},
   "cell_type": "markdown",
   "id": "6fc4a209",
   "metadata": {},
   "source": [
    "### Question 2: Which city had the heighst number of sales?"
   ]
  },
  {
   "cell_type": "code",
   "execution_count": 233,
   "id": "0d84f680",
   "metadata": {},
   "outputs": [],
   "source": [
    "all_months['City'] = all_months['PurchaseAddress'].apply(lambda x: x.split(',')[1])"
   ]
  },
  {
   "cell_type": "code",
   "execution_count": 237,
   "id": "86c442dd",
   "metadata": {},
   "outputs": [
    {
     "data": {
      "text/html": [
       "<div>\n",
       "<style scoped>\n",
       "    .dataframe tbody tr th:only-of-type {\n",
       "        vertical-align: middle;\n",
       "    }\n",
       "\n",
       "    .dataframe tbody tr th {\n",
       "        vertical-align: top;\n",
       "    }\n",
       "\n",
       "    .dataframe thead th {\n",
       "        text-align: right;\n",
       "    }\n",
       "</style>\n",
       "<table border=\"1\" class=\"dataframe\">\n",
       "  <thead>\n",
       "    <tr style=\"text-align: right;\">\n",
       "      <th></th>\n",
       "      <th>Sales</th>\n",
       "    </tr>\n",
       "    <tr>\n",
       "      <th>City</th>\n",
       "      <th></th>\n",
       "    </tr>\n",
       "  </thead>\n",
       "  <tbody>\n",
       "    <tr>\n",
       "      <th>Atlanta</th>\n",
       "      <td>2795498.58</td>\n",
       "    </tr>\n",
       "    <tr>\n",
       "      <th>Austin</th>\n",
       "      <td>1819581.75</td>\n",
       "    </tr>\n",
       "    <tr>\n",
       "      <th>Boston</th>\n",
       "      <td>3661642.01</td>\n",
       "    </tr>\n",
       "    <tr>\n",
       "      <th>Dallas</th>\n",
       "      <td>2767975.40</td>\n",
       "    </tr>\n",
       "    <tr>\n",
       "      <th>Los Angeles</th>\n",
       "      <td>5452570.80</td>\n",
       "    </tr>\n",
       "    <tr>\n",
       "      <th>New York City</th>\n",
       "      <td>4664317.43</td>\n",
       "    </tr>\n",
       "    <tr>\n",
       "      <th>Portland</th>\n",
       "      <td>2320490.61</td>\n",
       "    </tr>\n",
       "    <tr>\n",
       "      <th>San Francisco</th>\n",
       "      <td>8262203.91</td>\n",
       "    </tr>\n",
       "    <tr>\n",
       "      <th>Seattle</th>\n",
       "      <td>2747755.48</td>\n",
       "    </tr>\n",
       "  </tbody>\n",
       "</table>\n",
       "</div>"
      ],
      "text/plain": [
       "                     Sales\n",
       "City                      \n",
       " Atlanta        2795498.58\n",
       " Austin         1819581.75\n",
       " Boston         3661642.01\n",
       " Dallas         2767975.40\n",
       " Los Angeles    5452570.80\n",
       " New York City  4664317.43\n",
       " Portland       2320490.61\n",
       " San Francisco  8262203.91\n",
       " Seattle        2747755.48"
      ]
     },
     "execution_count": 237,
     "metadata": {},
     "output_type": "execute_result"
    }
   ],
   "source": [
    "all_months.groupby('City').agg({'Sales': 'sum'})"
   ]
  },
  {
   "cell_type": "code",
   "execution_count": 238,
   "id": "9e05924f",
   "metadata": {},
   "outputs": [],
   "source": [
    "# ANS:\n",
    "# The city with the heighest sales is San Francisco with 8262203.91 sales\n"
   ]
  },
  {
   "attachments": {},
   "cell_type": "markdown",
   "id": "a43b5b87",
   "metadata": {},
   "source": [
    "### Question 3: What time should we display ads to maximize liklihood of customers buying products?"
   ]
  },
  {
   "cell_type": "code",
   "execution_count": null,
   "id": "44b71316",
   "metadata": {
    "vscode": {
     "languageId": "plaintext"
    }
   },
   "outputs": [],
   "source": []
  }
 ],
 "metadata": {
  "kernelspec": {
   "display_name": "Python 3 (ipykernel)",
   "language": "python",
   "name": "python3"
  },
  "language_info": {
   "codemirror_mode": {
    "name": "ipython",
    "version": 3
   },
   "file_extension": ".py",
   "mimetype": "text/x-python",
   "name": "python",
   "nbconvert_exporter": "python",
   "pygments_lexer": "ipython3",
   "version": "3.10.6"
  }
 },
 "nbformat": 4,
 "nbformat_minor": 5
}
